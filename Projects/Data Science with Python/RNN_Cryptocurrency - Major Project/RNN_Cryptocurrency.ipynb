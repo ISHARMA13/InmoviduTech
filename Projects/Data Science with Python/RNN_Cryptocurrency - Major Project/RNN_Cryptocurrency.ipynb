{
  "nbformat": 4,
  "nbformat_minor": 0,
  "metadata": {
    "colab": {
      "name": "RNN Cryptocurrency.ipynb",
      "provenance": [],
      "collapsed_sections": []
    },
    "kernelspec": {
      "name": "python3",
      "display_name": "Python 3"
    },
    "language_info": {
      "name": "python"
    },
    "accelerator": "GPU"
  },
  "cells": [
    {
      "cell_type": "markdown",
      "metadata": {
        "id": "VChkznIf5Cvq"
      },
      "source": [
        "NAME - **`ISHIKA SHARMA`**\n",
        "\n",
        "E-mail ID - **`ishikasharma.aug2001@gmail.com`**\n",
        "\n",
        "## DATA SCIENCE Major Project"
      ]
    },
    {
      "cell_type": "code",
      "metadata": {
        "id": "kiaUGxaPNzWL"
      },
      "source": [
        "import pandas as pd\n",
        "import os\n",
        "from sklearn import preprocessing\n",
        "from collections import deque\n",
        "import numpy as np\n",
        "import random\n",
        "import time\n",
        "\n",
        "import tensorflow as tf\n",
        "from tensorflow.keras.models import Sequential\n",
        "from tensorflow.keras.layers import Dense, Dropout, LSTM, BatchNormalization\n",
        "from tensorflow.keras.callbacks import TensorBoard, ModelCheckpoint"
      ],
      "execution_count": 1,
      "outputs": []
    },
    {
      "cell_type": "code",
      "metadata": {
        "id": "dV6xxegan19p"
      },
      "source": [
        "import zipfile"
      ],
      "execution_count": 2,
      "outputs": []
    },
    {
      "cell_type": "code",
      "metadata": {
        "id": "L10zRFt7maKz"
      },
      "source": [
        "local_zip = '/content/drive/MyDrive/crypto_data.zip'\n",
        "zip_ref = zipfile.ZipFile(local_zip, 'r')\n",
        "zip_ref.extractall('/MyDrive')\n",
        "zip_ref.close()"
      ],
      "execution_count": 3,
      "outputs": []
    },
    {
      "cell_type": "code",
      "metadata": {
        "id": "bD8UrX49RYoD"
      },
      "source": [
        "#Constants Defined\n",
        "SEQ_LEN = 60       # how long of a preceeding sequence to collect for RNN\n",
        "FUTURE_PERIOD_PREDICT = 3   # how far into the future are we trying to predict?\n",
        "RATIO_TO_PREDICT = \"BCH-USD\"\n",
        "EPOCHS = 4\n",
        "BATCH_SIZE = 64\n",
        "NAME = f\"{RATIO_TO_PREDICT}-{SEQ_LEN}-SEQ-{FUTURE_PERIOD_PREDICT}-PRED-{int(time.time())}\""
      ],
      "execution_count": 26,
      "outputs": []
    },
    {
      "cell_type": "code",
      "metadata": {
        "id": "X5ddGVi7R7XW"
      },
      "source": [
        "# Creating the actual targets and rule for targets\n",
        "def classify(current, future):\n",
        "  if float(future) > float(current):  # if the future price is higher than the current, that's a buy, or a 1\n",
        "    return 1\n",
        "  else:\n",
        "    return 0\n"
      ],
      "execution_count": 5,
      "outputs": []
    },
    {
      "cell_type": "code",
      "metadata": {
        "id": "FLVLZoKP45Yu"
      },
      "source": [
        "def preprocess_df(df):\n",
        "  df = df.drop('future', 1)\n",
        "\n",
        "  for col in df.columns:\n",
        "    if col != \"target\":   # normalize all ... except target\n",
        "\n",
        "      df[col] = df[col].pct_change()  # pct change \"normalizes\" the different currencies \n",
        "      #(each crypto coin has vastly diff values, we're really more interested in the other coin's movements)\n",
        "\n",
        "      df.dropna(inplace=True)  # remove the nas created by pct_change\n",
        "\n",
        "      df[col] = preprocessing.scale(df[col].values)\n",
        "\n",
        "  df.dropna(inplace=True)\n",
        "\n",
        "  sequential_data = []    # list to contain the sequences\n",
        "  prev_days = deque(maxlen=SEQ_LEN)      # Our actual sequences.\n",
        "                          # deque keeps the maximum length by \n",
        "                          # popping out older values as new ones come in.\n",
        "\n",
        "  for i in df.values:\n",
        "    prev_days.append([n for n in i[:-1]])    # store all but the target\n",
        "\n",
        "    # Make sure we have 60 Sequences\n",
        "    if len(prev_days) == SEQ_LEN:        \n",
        "      sequential_data.append([np.array(prev_days), i[-1]])\n",
        "\n",
        "  random.shuffle(sequential_data)\n",
        "\n",
        "  buys = []    # list that will store our buy sequences and targets\n",
        "  sells = []   # list that will store our sell sequences and targets\n",
        "\n",
        "  for seq, target in sequential_data:\n",
        "    if target == 0:   # not a buy\n",
        "      sells.append([seq, target])\n",
        "    elif target == 1:\n",
        "      buys.append([seq, target])\n",
        "\n",
        "  random.shuffle(buys)\n",
        "  random.shuffle(sells)\n",
        "\n",
        "  lower = min(len(buys), len(sells))\n",
        "\n",
        "  # make sure both lists are only up to the shortest length.\n",
        "  buys = buys[:lower]\n",
        "  sells = sells[:lower]\n",
        "\n",
        "  sequential_data = buys + sells\n",
        "  random.shuffle(sequential_data)\n",
        "\n",
        "  x = []\n",
        "  y = []\n",
        "\n",
        "  for seq, target in sequential_data:\n",
        "    x.append(seq)\n",
        "    y.append(target)\n",
        "\n",
        "  return np.array(x), y\n",
        "\n"
      ],
      "execution_count": 6,
      "outputs": []
    },
    {
      "cell_type": "code",
      "metadata": {
        "id": "eBlBa_ltOJGO",
        "colab": {
          "base_uri": "https://localhost:8080/"
        },
        "outputId": "ec000a2f-5066-4109-d902-beefbaa5f1f1"
      },
      "source": [
        "main_df = pd.DataFrame()\n",
        "\n",
        "ratios = [\"BTC-USD\", \"LTC-USD\", \"ETH-USD\", \"BCH-USD\"]\n",
        "for ratio in ratios:\n",
        "\n",
        "  ratio = ratio.split('.csv')[0]  # split away the ticker from the file-name\n",
        "  print(ratio)\n",
        "  dataset = f\"/MyDrive/crypto_data/{ratio}.csv\"\n",
        "\n",
        "  df = pd.read_csv(dataset, names=[\"time\", \"low\", \"high\", \"open\", \"close\", \"volume\"])\n",
        "\n",
        "  # rename volume and close to include the ticker so we can still which close/volume is which:\n",
        "  df.rename(columns={\"close\": f\"{ratio}_close\", \"volume\": f\"{ratio}_volume\"}, inplace=True)\n",
        "\n",
        "  df.set_index(\"time\", inplace=True)\n",
        "  df = df[[f\"{ratio}_close\", f\"{ratio}_volume\"]]\n",
        "\n",
        "  if len(main_df) == 0:   #  dataframe empty\n",
        "    main_df = df\n",
        "  else:\n",
        "    main_df = main_df.join(df)\n"
      ],
      "execution_count": 27,
      "outputs": [
        {
          "output_type": "stream",
          "text": [
            "BTC-USD\n",
            "LTC-USD\n",
            "ETH-USD\n",
            "BCH-USD\n"
          ],
          "name": "stdout"
        }
      ]
    },
    {
      "cell_type": "code",
      "metadata": {
        "id": "kwtdcPrey_4H"
      },
      "source": [
        "main_df.fillna(method=\"ffill\", inplace=True)  # if there are gaps in data, use previously known values\n",
        "main_df.dropna(inplace=True)\n",
        "\n",
        "main_df['future'] = main_df[f\"{RATIO_TO_PREDICT}_close\"].shift(FUTURE_PERIOD_PREDICT)\n",
        "main_df['target'] = list(map(classify, main_df[f\"{RATIO_TO_PREDICT}_close\"], main_df[\"future\"]))\n",
        "\n",
        "main_df.dropna(inplace=True)\n",
        "\n",
        "#print(main_df[[f\"{RATIO_TO_PREDICT}_close\", \"future\"]].head(10))\n",
        "\n"
      ],
      "execution_count": 28,
      "outputs": []
    },
    {
      "cell_type": "code",
      "metadata": {
        "id": "D8s5wGQROJI4"
      },
      "source": [
        "# here, split away some slice of the future data from the main main_df.\n",
        "times = sorted(main_df.index.values)\n",
        "last_5pct = sorted(main_df.index.values)[-int(0.05*len(times))]\n",
        "\n",
        "# print(last_5pct)"
      ],
      "execution_count": 29,
      "outputs": []
    },
    {
      "cell_type": "code",
      "metadata": {
        "id": "ioOg-h9OOJLR"
      },
      "source": [
        "# Split up the data\n",
        "validation_main_df = main_df[(main_df.index >= last_5pct)]\n",
        "main_df = main_df[(main_df.index < last_5pct)]"
      ],
      "execution_count": 30,
      "outputs": []
    },
    {
      "cell_type": "code",
      "metadata": {
        "id": "1oqlCxQlOJNo"
      },
      "source": [
        "#preprocess_df(main_df)\n",
        "train_x, train_y = preprocess_df(main_df)\n",
        "validation_x, validation_y = preprocess_df(validation_main_df)"
      ],
      "execution_count": 31,
      "outputs": []
    },
    {
      "cell_type": "code",
      "metadata": {
        "id": "03vQJeBCWnnV",
        "colab": {
          "base_uri": "https://localhost:8080/"
        },
        "outputId": "61c532a4-a2aa-4a3f-a56d-c8fd87dd36c5"
      },
      "source": [
        "print(f\"train data: {len(train_x)} validation: {len(validation_x)}\")\n",
        "print(f\"Dont buys: {train_y.count(0)}, buys: {train_y.count(1)}\")\n",
        "print(f\"VALIDATION Dont buys: {validation_y.count(0)}, buys: {validation_y.count(1)}\")"
      ],
      "execution_count": 32,
      "outputs": [
        {
          "output_type": "stream",
          "text": [
            "train data: 81428 validation: 3774\n",
            "Dont buys: 40714, buys: 40714\n",
            "VALIDATION Dont buys: 1887, buys: 1887\n"
          ],
          "name": "stdout"
        }
      ]
    },
    {
      "cell_type": "code",
      "metadata": {
        "id": "uNfttZ6Ox-Rf"
      },
      "source": [
        "train_y = np.array(train_y, dtype='float64')\n",
        "validation_y = np.array(validation_y, dtype='float64')"
      ],
      "execution_count": 33,
      "outputs": []
    },
    {
      "cell_type": "code",
      "metadata": {
        "id": "nDl94wlOWnkc",
        "colab": {
          "base_uri": "https://localhost:8080/"
        },
        "outputId": "3647c355-5b5c-4d8e-dbda-1194a155796e"
      },
      "source": [
        "model = Sequential()\n",
        "\n",
        "model.add(LSTM(128, input_shape=(train_x.shape[1:]), return_sequences=True))\n",
        "model.add(Dropout(0.2))\n",
        "model.add(BatchNormalization())\n",
        "\n",
        "model.add(LSTM(128, return_sequences=True))\n",
        "model.add(Dropout(0.1))\n",
        "model.add(BatchNormalization())\n",
        "\n",
        "model.add(LSTM(128))\n",
        "model.add(Dropout(0.2))\n",
        "model.add(BatchNormalization())\n",
        "\n",
        "model.add(Dense(32, activation='relu'))\n",
        "model.add(Dropout(0.2))\n",
        "\n",
        "model.add(Dense(2, activation='softmax'))\n",
        "\n",
        "opt = tf.keras.optimizers.Adam(lr=0.001, decay=1e-6)\n",
        "\n",
        "# Compile model\n",
        "model.compile(\n",
        "    loss='sparse_categorical_crossentropy',\n",
        "    optimizer=opt,\n",
        "    metrics=['accuracy'])\n",
        "\n",
        "tensorboard = TensorBoard(log_dir=\"logs/{}\".format(NAME))\n",
        "\n",
        " # unique file name that will include the epoch and the validation acc for that epoch\n",
        "filepath = \"RNN_Final-{epoch:02d}-{val_accuracy:.3f}\" \n",
        "\n",
        "#Saving the best one:\n",
        "checkpoint = ModelCheckpoint(\"models/{}.model\".format(filepath, monitor='val_accuracy', verbose=1, save_best_only=True, mode='max')) \n",
        "\n",
        "# Train model\n",
        "history = model.fit(\n",
        "    train_x, train_y,\n",
        "    batch_size=BATCH_SIZE,\n",
        "    epochs=EPOCHS,\n",
        "    validation_data=(validation_x, validation_y),\n",
        "    callbacks=[tensorboard, checkpoint]\n",
        ")\n",
        "\n"
      ],
      "execution_count": 34,
      "outputs": [
        {
          "output_type": "stream",
          "text": [
            "Epoch 1/4\n",
            "1273/1273 [==============================] - 27s 18ms/step - loss: 0.4847 - accuracy: 0.7519 - val_loss: 0.3387 - val_accuracy: 0.8235\n"
          ],
          "name": "stdout"
        },
        {
          "output_type": "stream",
          "text": [
            "WARNING:absl:Found untraced functions such as lstm_cell_6_layer_call_and_return_conditional_losses, lstm_cell_6_layer_call_fn, lstm_cell_7_layer_call_and_return_conditional_losses, lstm_cell_7_layer_call_fn, lstm_cell_8_layer_call_and_return_conditional_losses while saving (showing 5 of 15). These functions will not be directly callable after loading.\n",
            "WARNING:absl:Found untraced functions such as lstm_cell_6_layer_call_and_return_conditional_losses, lstm_cell_6_layer_call_fn, lstm_cell_7_layer_call_and_return_conditional_losses, lstm_cell_7_layer_call_fn, lstm_cell_8_layer_call_and_return_conditional_losses while saving (showing 5 of 15). These functions will not be directly callable after loading.\n"
          ],
          "name": "stderr"
        },
        {
          "output_type": "stream",
          "text": [
            "INFO:tensorflow:Assets written to: models/RNN_Final-01-0.824.model/assets\n"
          ],
          "name": "stdout"
        },
        {
          "output_type": "stream",
          "text": [
            "INFO:tensorflow:Assets written to: models/RNN_Final-01-0.824.model/assets\n"
          ],
          "name": "stderr"
        },
        {
          "output_type": "stream",
          "text": [
            "Epoch 2/4\n",
            "1273/1273 [==============================] - 20s 16ms/step - loss: 0.2673 - accuracy: 0.8694 - val_loss: 0.2829 - val_accuracy: 0.8688\n"
          ],
          "name": "stdout"
        },
        {
          "output_type": "stream",
          "text": [
            "WARNING:absl:Found untraced functions such as lstm_cell_6_layer_call_and_return_conditional_losses, lstm_cell_6_layer_call_fn, lstm_cell_7_layer_call_and_return_conditional_losses, lstm_cell_7_layer_call_fn, lstm_cell_8_layer_call_and_return_conditional_losses while saving (showing 5 of 15). These functions will not be directly callable after loading.\n",
            "WARNING:absl:Found untraced functions such as lstm_cell_6_layer_call_and_return_conditional_losses, lstm_cell_6_layer_call_fn, lstm_cell_7_layer_call_and_return_conditional_losses, lstm_cell_7_layer_call_fn, lstm_cell_8_layer_call_and_return_conditional_losses while saving (showing 5 of 15). These functions will not be directly callable after loading.\n"
          ],
          "name": "stderr"
        },
        {
          "output_type": "stream",
          "text": [
            "INFO:tensorflow:Assets written to: models/RNN_Final-02-0.869.model/assets\n"
          ],
          "name": "stdout"
        },
        {
          "output_type": "stream",
          "text": [
            "INFO:tensorflow:Assets written to: models/RNN_Final-02-0.869.model/assets\n"
          ],
          "name": "stderr"
        },
        {
          "output_type": "stream",
          "text": [
            "Epoch 3/4\n",
            "1273/1273 [==============================] - 20s 16ms/step - loss: 0.1947 - accuracy: 0.9058 - val_loss: 0.2332 - val_accuracy: 0.8824\n"
          ],
          "name": "stdout"
        },
        {
          "output_type": "stream",
          "text": [
            "WARNING:absl:Found untraced functions such as lstm_cell_6_layer_call_and_return_conditional_losses, lstm_cell_6_layer_call_fn, lstm_cell_7_layer_call_and_return_conditional_losses, lstm_cell_7_layer_call_fn, lstm_cell_8_layer_call_and_return_conditional_losses while saving (showing 5 of 15). These functions will not be directly callable after loading.\n",
            "WARNING:absl:Found untraced functions such as lstm_cell_6_layer_call_and_return_conditional_losses, lstm_cell_6_layer_call_fn, lstm_cell_7_layer_call_and_return_conditional_losses, lstm_cell_7_layer_call_fn, lstm_cell_8_layer_call_and_return_conditional_losses while saving (showing 5 of 15). These functions will not be directly callable after loading.\n"
          ],
          "name": "stderr"
        },
        {
          "output_type": "stream",
          "text": [
            "INFO:tensorflow:Assets written to: models/RNN_Final-03-0.882.model/assets\n"
          ],
          "name": "stdout"
        },
        {
          "output_type": "stream",
          "text": [
            "INFO:tensorflow:Assets written to: models/RNN_Final-03-0.882.model/assets\n"
          ],
          "name": "stderr"
        },
        {
          "output_type": "stream",
          "text": [
            "Epoch 4/4\n",
            "1273/1273 [==============================] - 20s 15ms/step - loss: 0.1755 - accuracy: 0.9175 - val_loss: 0.2216 - val_accuracy: 0.8988\n"
          ],
          "name": "stdout"
        },
        {
          "output_type": "stream",
          "text": [
            "WARNING:absl:Found untraced functions such as lstm_cell_6_layer_call_and_return_conditional_losses, lstm_cell_6_layer_call_fn, lstm_cell_7_layer_call_and_return_conditional_losses, lstm_cell_7_layer_call_fn, lstm_cell_8_layer_call_and_return_conditional_losses while saving (showing 5 of 15). These functions will not be directly callable after loading.\n",
            "WARNING:absl:Found untraced functions such as lstm_cell_6_layer_call_and_return_conditional_losses, lstm_cell_6_layer_call_fn, lstm_cell_7_layer_call_and_return_conditional_losses, lstm_cell_7_layer_call_fn, lstm_cell_8_layer_call_and_return_conditional_losses while saving (showing 5 of 15). These functions will not be directly callable after loading.\n"
          ],
          "name": "stderr"
        },
        {
          "output_type": "stream",
          "text": [
            "INFO:tensorflow:Assets written to: models/RNN_Final-04-0.899.model/assets\n"
          ],
          "name": "stdout"
        },
        {
          "output_type": "stream",
          "text": [
            "INFO:tensorflow:Assets written to: models/RNN_Final-04-0.899.model/assets\n"
          ],
          "name": "stderr"
        }
      ]
    },
    {
      "cell_type": "code",
      "metadata": {
        "id": "PmEESB3lWnhC",
        "colab": {
          "base_uri": "https://localhost:8080/"
        },
        "outputId": "c7dac05f-7680-4e79-907d-9c1ac08d253d"
      },
      "source": [
        "# Score model\n",
        "score = model.evaluate(validation_x, validation_y, verbose=0)\n",
        "print('Test loss:', score[0])\n",
        "print('Test accuracy:', score[1])\n",
        "\n",
        "# Save model\n",
        "model.save(\"models/{}\".format(NAME))"
      ],
      "execution_count": 35,
      "outputs": [
        {
          "output_type": "stream",
          "text": [
            "Test loss: 0.221627876162529\n",
            "Test accuracy: 0.8987811207771301\n"
          ],
          "name": "stdout"
        },
        {
          "output_type": "stream",
          "text": [
            "WARNING:absl:Found untraced functions such as lstm_cell_6_layer_call_and_return_conditional_losses, lstm_cell_6_layer_call_fn, lstm_cell_7_layer_call_and_return_conditional_losses, lstm_cell_7_layer_call_fn, lstm_cell_8_layer_call_and_return_conditional_losses while saving (showing 5 of 15). These functions will not be directly callable after loading.\n",
            "WARNING:absl:Found untraced functions such as lstm_cell_6_layer_call_and_return_conditional_losses, lstm_cell_6_layer_call_fn, lstm_cell_7_layer_call_and_return_conditional_losses, lstm_cell_7_layer_call_fn, lstm_cell_8_layer_call_and_return_conditional_losses while saving (showing 5 of 15). These functions will not be directly callable after loading.\n"
          ],
          "name": "stderr"
        },
        {
          "output_type": "stream",
          "text": [
            "INFO:tensorflow:Assets written to: models/BCH-USD-60-SEQ-3-PRED-1618497026/assets\n"
          ],
          "name": "stdout"
        },
        {
          "output_type": "stream",
          "text": [
            "INFO:tensorflow:Assets written to: models/BCH-USD-60-SEQ-3-PRED-1618497026/assets\n"
          ],
          "name": "stderr"
        }
      ]
    },
    {
      "cell_type": "code",
      "metadata": {
        "id": "jHXLNmF4w0ce"
      },
      "source": [
        ""
      ],
      "execution_count": null,
      "outputs": []
    }
  ]
}